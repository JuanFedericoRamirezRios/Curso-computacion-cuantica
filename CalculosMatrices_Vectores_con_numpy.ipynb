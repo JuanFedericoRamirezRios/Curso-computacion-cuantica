{
 "cells": [
  {
   "cell_type": "markdown",
   "metadata": {},
   "source": [
    "# Calculo entre matrices y vectores usando numpy"
   ]
  },
  {
   "cell_type": "code",
   "execution_count": 1,
   "metadata": {},
   "outputs": [
    {
     "name": "stdout",
     "output_type": "stream",
     "text": [
      "Python 3.10.9\n"
     ]
    }
   ],
   "source": [
    "!python --version"
   ]
  },
  {
   "cell_type": "markdown",
   "metadata": {},
   "source": [
    "Estamos ejecutando en python version 3.10.9"
   ]
  },
  {
   "cell_type": "markdown",
   "metadata": {},
   "source": [
    "### Importar librerias"
   ]
  },
  {
   "cell_type": "code",
   "execution_count": 2,
   "metadata": {},
   "outputs": [],
   "source": [
    "import numpy"
   ]
  },
  {
   "cell_type": "markdown",
   "metadata": {},
   "source": [
    "### Crear arreglos sin numpy"
   ]
  },
  {
   "cell_type": "code",
   "execution_count": 4,
   "metadata": {},
   "outputs": [
    {
     "name": "stdout",
     "output_type": "stream",
     "text": [
      "[[-5, 2], [3, -1], [1, 0]]\n"
     ]
    }
   ],
   "source": [
    "A = [[-5,2],[3,-1],[1,0]]\n",
    "print(A)"
   ]
  },
  {
   "cell_type": "code",
   "execution_count": 5,
   "metadata": {},
   "outputs": [
    {
     "name": "stdout",
     "output_type": "stream",
     "text": [
      "[[1, 2], [0, 5], [3, -1]]\n"
     ]
    }
   ],
   "source": [
    "B = [[1,2],[0,5],[3,-1]]\n",
    "print(B)"
   ]
  },
  {
   "cell_type": "code",
   "execution_count": 7,
   "metadata": {},
   "outputs": [
    {
     "name": "stdout",
     "output_type": "stream",
     "text": [
      "[[-5, 2], [3, -1], [1, 0], [1, 2], [0, 5], [3, -1]]\n"
     ]
    }
   ],
   "source": [
    "Resultado = A+B\n",
    "print(Resultado) # Sin usar numpy (concatenacion de arreglos)"
   ]
  },
  {
   "cell_type": "markdown",
   "metadata": {},
   "source": [
    "### Convertir arreglos a matrices con numpy"
   ]
  },
  {
   "cell_type": "code",
   "execution_count": 8,
   "metadata": {},
   "outputs": [
    {
     "name": "stdout",
     "output_type": "stream",
     "text": [
      "[[-5  2]\n",
      " [ 3 -1]\n",
      " [ 1  0]]\n"
     ]
    }
   ],
   "source": [
    "A = numpy.array(A) # Ahora A es una matriz de numpy\n",
    "print(A)"
   ]
  },
  {
   "cell_type": "code",
   "execution_count": 9,
   "metadata": {},
   "outputs": [
    {
     "name": "stdout",
     "output_type": "stream",
     "text": [
      "[[ 1  2]\n",
      " [ 0  5]\n",
      " [ 3 -1]]\n"
     ]
    }
   ],
   "source": [
    "B=numpy.array(B)\n",
    "print(B)"
   ]
  },
  {
   "cell_type": "markdown",
   "metadata": {},
   "source": [
    "### Suma y resta de matrices"
   ]
  },
  {
   "cell_type": "code",
   "execution_count": 10,
   "metadata": {},
   "outputs": [
    {
     "name": "stdout",
     "output_type": "stream",
     "text": [
      "[[-4  4]\n",
      " [ 3  4]\n",
      " [ 4 -1]]\n"
     ]
    }
   ],
   "source": [
    "Resultado = A+B\n",
    "print(Resultado)"
   ]
  },
  {
   "cell_type": "code",
   "execution_count": 11,
   "metadata": {},
   "outputs": [
    {
     "name": "stdout",
     "output_type": "stream",
     "text": [
      "[[-4  4]\n",
      " [ 3  4]\n",
      " [ 4 -1]]\n"
     ]
    }
   ],
   "source": [
    "print(A+B)"
   ]
  },
  {
   "cell_type": "code",
   "execution_count": 13,
   "metadata": {},
   "outputs": [
    {
     "name": "stdout",
     "output_type": "stream",
     "text": [
      "Este es el resultado de A-B=\n",
      "[[-6  0]\n",
      " [ 3 -6]\n",
      " [-2  1]]\n"
     ]
    }
   ],
   "source": [
    "print('Este es el resultado de A-B=')\n",
    "print(A-B)"
   ]
  },
  {
   "cell_type": "markdown",
   "metadata": {},
   "source": [
    "### Escalar por una matriz"
   ]
  },
  {
   "cell_type": "code",
   "execution_count": 14,
   "metadata": {},
   "outputs": [
    {
     "name": "stdout",
     "output_type": "stream",
     "text": [
      "[[10 -4]\n",
      " [-6  2]\n",
      " [-2  0]]\n"
     ]
    }
   ],
   "source": [
    "x = -2\n",
    "print(x*A)"
   ]
  },
  {
   "cell_type": "markdown",
   "metadata": {},
   "source": [
    "### Multiplicacion elemento a elemento"
   ]
  },
  {
   "cell_type": "code",
   "execution_count": 15,
   "metadata": {},
   "outputs": [
    {
     "name": "stdout",
     "output_type": "stream",
     "text": [
      "[[-5  2]\n",
      " [ 3 -1]\n",
      " [ 1  0]] \n",
      "\n",
      " [[ 1  2]\n",
      " [ 0  5]\n",
      " [ 3 -1]]\n"
     ]
    }
   ],
   "source": [
    "print(A, '\\n\\n', B)"
   ]
  },
  {
   "cell_type": "code",
   "execution_count": 16,
   "metadata": {},
   "outputs": [
    {
     "name": "stdout",
     "output_type": "stream",
     "text": [
      "[[-5  4]\n",
      " [ 0 -5]\n",
      " [ 3  0]]\n"
     ]
    }
   ],
   "source": [
    "print(A*B) # Multiplica elemento a elemento, PEROOOOO, no es una multiplicacion entre matrices."
   ]
  },
  {
   "cell_type": "code",
   "execution_count": 19,
   "metadata": {},
   "outputs": [
    {
     "name": "stdout",
     "output_type": "stream",
     "text": [
      "[[ 2 -1  3]\n",
      " [ 1  0 -2]]\n"
     ]
    }
   ],
   "source": [
    "# C = numpy.array([[2,-1,3],[1,0,-2]])\n",
    "# print(C)\n",
    "import numpy as np\n",
    "C = np.array([[2,-1,3],[1,0,-2]])\n",
    "print(C)\n"
   ]
  },
  {
   "cell_type": "code",
   "execution_count": 20,
   "metadata": {},
   "outputs": [
    {
     "ename": "ValueError",
     "evalue": "operands could not be broadcast together with shapes (2,3) (3,2) ",
     "output_type": "error",
     "traceback": [
      "\u001b[1;31m---------------------------------------------------------------------------\u001b[0m",
      "\u001b[1;31mValueError\u001b[0m                                Traceback (most recent call last)",
      "Cell \u001b[1;32mIn[20], line 1\u001b[0m\n\u001b[1;32m----> 1\u001b[0m \u001b[38;5;28mprint\u001b[39m(\u001b[43mC\u001b[49m\u001b[38;5;241;43m*\u001b[39;49m\u001b[43mA\u001b[49m)\n",
      "\u001b[1;31mValueError\u001b[0m: operands could not be broadcast together with shapes (2,3) (3,2) "
     ]
    }
   ],
   "source": [
    "print(C*A)"
   ]
  },
  {
   "cell_type": "code",
   "execution_count": 21,
   "metadata": {},
   "outputs": [
    {
     "name": "stdout",
     "output_type": "stream",
     "text": [
      "Dimensiones de C: (2, 3)\n",
      "Dimensiones de A: (3, 2)\n"
     ]
    }
   ],
   "source": [
    "print('Dimensiones de C:', np.shape(C))\n",
    "print('Dimensiones de A:', np.shape(A))\n"
   ]
  },
  {
   "cell_type": "markdown",
   "metadata": {},
   "source": [
    "### Multiplicacion matricial"
   ]
  },
  {
   "cell_type": "code",
   "execution_count": 22,
   "metadata": {},
   "outputs": [
    {
     "name": "stdout",
     "output_type": "stream",
     "text": [
      "[[-10   5]\n",
      " [ -7   2]]\n"
     ]
    }
   ],
   "source": [
    "Resultado = np.dot(C, A) #Esta SI es una multplicacion matricial\n",
    "print(Resultado)"
   ]
  },
  {
   "cell_type": "code",
   "execution_count": 23,
   "metadata": {},
   "outputs": [
    {
     "name": "stdout",
     "output_type": "stream",
     "text": [
      "[[ -8   5 -19]\n",
      " [  5  -3  11]\n",
      " [  2  -1   3]]\n"
     ]
    }
   ],
   "source": [
    "print(np.dot(A,C))"
   ]
  },
  {
   "cell_type": "code",
   "execution_count": 24,
   "metadata": {},
   "outputs": [
    {
     "name": "stdout",
     "output_type": "stream",
     "text": [
      "[[ 2  1]\n",
      " [-1  0]\n",
      " [ 3 -2]]\n",
      "\n",
      "[[-5  3  1]\n",
      " [ 2 -1  0]]\n"
     ]
    }
   ],
   "source": [
    "print(np.transpose(C))\n",
    "print()\n",
    "print(np.transpose(A))"
   ]
  },
  {
   "cell_type": "code",
   "execution_count": 25,
   "metadata": {},
   "outputs": [
    {
     "data": {
      "text/plain": [
       "-8"
      ]
     },
     "execution_count": 25,
     "metadata": {},
     "output_type": "execute_result"
    }
   ],
   "source": [
    "(2)*(-5)+(1)*(2)"
   ]
  },
  {
   "cell_type": "markdown",
   "metadata": {},
   "source": [
    "### Declaracion de vectores con complejos"
   ]
  },
  {
   "cell_type": "code",
   "execution_count": 27,
   "metadata": {},
   "outputs": [
    {
     "name": "stdout",
     "output_type": "stream",
     "text": [
      "[-0.-1.j  1.+1.j  0.+0.j  1.+2.j]\n"
     ]
    }
   ],
   "source": [
    "# z1 = np.array([-j, 1+j, 0, 1+2j]) # ! Error: j siempre debe tener un coeficiente numerico.\n",
    "z1 = np.array([-1j, 1+1j, 0, 1+2j])\n",
    "print(z1)"
   ]
  },
  {
   "cell_type": "markdown",
   "metadata": {},
   "source": [
    "-0.-1.j = -0-1j = -j\n",
    "\n",
    "0.+0.j = 0+0j = 0"
   ]
  },
  {
   "cell_type": "markdown",
   "metadata": {},
   "source": []
  },
  {
   "cell_type": "code",
   "execution_count": 28,
   "metadata": {},
   "outputs": [
    {
     "name": "stdout",
     "output_type": "stream",
     "text": [
      "[0.+0.j 0.+1.j 1.-2.j 3.+1.j]\n"
     ]
    }
   ],
   "source": [
    "z2 = np.array([0, 1j, 1-2j, complex(3, 1)])\n",
    "print(z2)"
   ]
  },
  {
   "cell_type": "markdown",
   "metadata": {},
   "source": [
    "### Suma entre vectores"
   ]
  },
  {
   "cell_type": "code",
   "execution_count": 29,
   "metadata": {},
   "outputs": [
    {
     "name": "stdout",
     "output_type": "stream",
     "text": [
      "[0.-1.j 1.+2.j 1.-2.j 4.+3.j]\n"
     ]
    }
   ],
   "source": [
    "print(z1+z2)"
   ]
  },
  {
   "cell_type": "markdown",
   "metadata": {},
   "source": [
    "### Producto punto entre vectores"
   ]
  },
  {
   "cell_type": "code",
   "execution_count": 30,
   "metadata": {},
   "outputs": [
    {
     "name": "stdout",
     "output_type": "stream",
     "text": [
      "8j\n"
     ]
    }
   ],
   "source": [
    "print(np.dot(z1,z2))"
   ]
  },
  {
   "cell_type": "markdown",
   "metadata": {},
   "source": [
    "### Producto tensorial"
   ]
  },
  {
   "cell_type": "code",
   "execution_count": 31,
   "metadata": {},
   "outputs": [
    {
     "name": "stdout",
     "output_type": "stream",
     "text": [
      "[[ 0.+0.j  1.+0.j -2.-1.j  1.-3.j]\n",
      " [ 0.+0.j -1.+1.j  3.-1.j  2.+4.j]\n",
      " [ 0.+0.j  0.+0.j  0.+0.j  0.+0.j]\n",
      " [ 0.+0.j -2.+1.j  5.+0.j  1.+7.j]]\n"
     ]
    }
   ],
   "source": [
    "print(np.tensordot(z1,z2,axes=0)) # axes=0 es el producto tensorial"
   ]
  },
  {
   "cell_type": "code",
   "execution_count": 32,
   "metadata": {},
   "outputs": [
    {
     "name": "stdout",
     "output_type": "stream",
     "text": [
      "(4,)\n",
      "(4,)\n"
     ]
    }
   ],
   "source": [
    "print(np.shape(z1))\n",
    "print(np.shape(z2))"
   ]
  },
  {
   "cell_type": "code",
   "execution_count": 33,
   "metadata": {},
   "outputs": [
    {
     "name": "stdout",
     "output_type": "stream",
     "text": [
      "[-0.-1.j  1.+1.j  0.+0.j  1.+2.j]\n",
      "\n",
      "[[-0.-1.j  1.+1.j  0.+0.j  1.+2.j]]\n"
     ]
    }
   ],
   "source": [
    "z1_2D = np.atleast_2d(z1)\n",
    "print(z1)\n",
    "print()\n",
    "print(z1_2D) # Vector fila"
   ]
  },
  {
   "cell_type": "code",
   "execution_count": 34,
   "metadata": {},
   "outputs": [
    {
     "name": "stdout",
     "output_type": "stream",
     "text": [
      "[[-0.-1.j]\n",
      " [ 1.+1.j]\n",
      " [ 0.+0.j]\n",
      " [ 1.+2.j]]\n"
     ]
    }
   ],
   "source": [
    "z1T = np.transpose(z1_2D)\n",
    "print(z1T) # Vector columna"
   ]
  },
  {
   "cell_type": "code",
   "execution_count": 35,
   "metadata": {},
   "outputs": [
    {
     "name": "stdout",
     "output_type": "stream",
     "text": [
      "[[0.+0.j]\n",
      " [0.+1.j]\n",
      " [1.-2.j]\n",
      " [3.+1.j]]\n"
     ]
    }
   ],
   "source": [
    "z2_2D = np.atleast_2d(z2)\n",
    "z2T = z2_2D.T # Es igual a np.transpose(z2_2D)\n",
    "print(z2T)"
   ]
  },
  {
   "cell_type": "code",
   "execution_count": 36,
   "metadata": {},
   "outputs": [
    {
     "name": "stdout",
     "output_type": "stream",
     "text": [
      "[[[[ 0.+0.j]\n",
      "   [ 1.+0.j]\n",
      "   [-2.-1.j]\n",
      "   [ 1.-3.j]]]\n",
      "\n",
      "\n",
      " [[[ 0.+0.j]\n",
      "   [-1.+1.j]\n",
      "   [ 3.-1.j]\n",
      "   [ 2.+4.j]]]\n",
      "\n",
      "\n",
      " [[[ 0.+0.j]\n",
      "   [ 0.+0.j]\n",
      "   [ 0.+0.j]\n",
      "   [ 0.+0.j]]]\n",
      "\n",
      "\n",
      " [[[ 0.+0.j]\n",
      "   [-2.+1.j]\n",
      "   [ 5.+0.j]\n",
      "   [ 1.+7.j]]]]\n"
     ]
    }
   ],
   "source": [
    "print(np.tensordot(z1T, z2T, axes=0))"
   ]
  },
  {
   "cell_type": "markdown",
   "metadata": {},
   "source": [
    "### Ejemplo de muchas instrucciones en una sola linea de codigo"
   ]
  },
  {
   "cell_type": "code",
   "execution_count": 39,
   "metadata": {},
   "outputs": [
    {
     "name": "stdout",
     "output_type": "stream",
     "text": [
      "[[[[ 0.+0.j]\n",
      "   [ 1.+0.j]\n",
      "   [-2.+0.j]\n",
      "   [ 1.-3.j]]]\n",
      "\n",
      "\n",
      " [[[ 0.+0.j]\n",
      "   [-1.+1.j]\n",
      "   [ 2.-2.j]\n",
      "   [ 2.+4.j]]]\n",
      "\n",
      "\n",
      " [[[ 0.+0.j]\n",
      "   [ 0.+0.j]\n",
      "   [ 0.+0.j]\n",
      "   [ 0.+0.j]]]\n",
      "\n",
      "\n",
      " [[[ 0.+0.j]\n",
      "   [-2.+1.j]\n",
      "   [ 4.-2.j]\n",
      "   [ 1.+7.j]]]]\n"
     ]
    }
   ],
   "source": [
    "# z2 = np.array([0,1j,-2j,3+1j])\n",
    "# z2T = np.atleast_2d(z2).T\n",
    "# print(np.tensordot(z1T, z2T, axes=0))\n",
    "print(np.tensordot(z1T, np.atleast_2d(np.array([0,1j,-2j,3+1j])).T, axes=0))\n"
   ]
  },
  {
   "cell_type": "code",
   "execution_count": null,
   "metadata": {},
   "outputs": [],
   "source": []
  }
 ],
 "metadata": {
  "kernelspec": {
   "display_name": "Python 3",
   "language": "python",
   "name": "python3"
  },
  "language_info": {
   "codemirror_mode": {
    "name": "ipython",
    "version": 3
   },
   "file_extension": ".py",
   "mimetype": "text/x-python",
   "name": "python",
   "nbconvert_exporter": "python",
   "pygments_lexer": "ipython3",
   "version": "3.10.9"
  }
 },
 "nbformat": 4,
 "nbformat_minor": 2
}
